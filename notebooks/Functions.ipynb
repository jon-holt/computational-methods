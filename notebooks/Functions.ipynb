{
 "cells": [
  {
   "cell_type": "markdown",
   "metadata": {},
   "source": [
    "# Functions"
   ]
  },
  {
   "cell_type": "markdown",
   "metadata": {},
   "source": [
    "**Functions** are defined using the `def` statement. Following the `def` statement is the name of the function, which we get to choose. Optionally, we can use parentheses to specify **input parameters** to our function. If there are no input parameters, then we use empty parentheses. \n",
    "\n",
    "Similar to `for` and `while` statements, the body of the `def` statement must be indented. \n",
    "\n",
    "Below, we define a function called \"print_lyrics\" with no input parameters (empty parentheses)"
   ]
  },
  {
   "cell_type": "code",
   "execution_count": 1,
   "metadata": {},
   "outputs": [],
   "source": [
    "def print_lyrics():\n",
    "    print(\"Fresh photos with the bomb lighting\")\n",
    "    print('New man on the Minnesota Vikings')"
   ]
  },
  {
   "cell_type": "markdown",
   "metadata": {},
   "source": [
    "We have now saved the function to the computer memory. However, the function will not actually run until we **invoke** it! We can invoke (\"call\") the function at any time by typing the name of the function."
   ]
  },
  {
   "cell_type": "code",
   "execution_count": 2,
   "metadata": {},
   "outputs": [
    {
     "name": "stdout",
     "output_type": "stream",
     "text": [
      "Fresh photos with the bomb lighting\n",
      "New man on the Minnesota Vikings\n"
     ]
    }
   ],
   "source": [
    "print_lyrics()"
   ]
  },
  {
   "cell_type": "markdown",
   "metadata": {},
   "source": [
    "**Input parameters**, or **arguments**, are values that we pass into the function when we call the function. Arguments allow us to write a function whose output depends on the input. Arguments are placed in parentheses after the name of the function. \n",
    "\n",
    "You have already used functions that require arguments. For example, `print()` is a function whose argument is the thing that we want to print. \n",
    "\n",
    "Let's write a function that takes an argument. Here is a function called \"perimeter\" that calculates the perimeter of a circle, given the radius. The radius is the argument. "
   ]
  },
  {
   "cell_type": "code",
   "execution_count": 26,
   "metadata": {},
   "outputs": [],
   "source": [
    "def perimeter(radius):\n",
    "    print(2*3.14*radius)"
   ]
  },
  {
   "cell_type": "markdown",
   "metadata": {},
   "source": [
    "Now, invoke the function for a chosen radius. "
   ]
  },
  {
   "cell_type": "code",
   "execution_count": 41,
   "metadata": {},
   "outputs": [
    {
     "data": {
      "text/plain": [
       "25.12"
      ]
     },
     "execution_count": 41,
     "metadata": {},
     "output_type": "execute_result"
    }
   ],
   "source": [
    "perimeter(4)"
   ]
  },
  {
   "cell_type": "markdown",
   "metadata": {},
   "source": [
    "Functions can be as intricate as we need them to be. We can even define **variables** inside of functions. Variables defined inside of functions will not be remembered outside of the function; rather, they are just placeholders that will be used within the **scope** of the function (while the function is running). For example, here is a function that utilizes a variable called \"lang\":"
   ]
  },
  {
   "cell_type": "code",
   "execution_count": 28,
   "metadata": {},
   "outputs": [],
   "source": [
    "def greet(lang):\n",
    "    if lang == 'es':\n",
    "        print('Hola')\n",
    "    elif lang == 'fr':\n",
    "        print('Bonjour')\n",
    "    else:\n",
    "        print('Hello')"
   ]
  },
  {
   "cell_type": "code",
   "execution_count": 29,
   "metadata": {},
   "outputs": [
    {
     "name": "stdout",
     "output_type": "stream",
     "text": [
      "Hello\n"
     ]
    }
   ],
   "source": [
    "greet('en')"
   ]
  },
  {
   "cell_type": "markdown",
   "metadata": {},
   "source": [
    "In the previous case, we know that `lang = 'en'` inside the function. However, if we try to print the value of \"lang\" outside the function, it will not work because \"lang\" is defined **inside** the function only. "
   ]
  },
  {
   "cell_type": "code",
   "execution_count": 30,
   "metadata": {},
   "outputs": [
    {
     "ename": "NameError",
     "evalue": "name 'lang' is not defined",
     "output_type": "error",
     "traceback": [
      "\u001b[0;31m---------------------------------------------------------------------------\u001b[0m",
      "\u001b[0;31mNameError\u001b[0m                                 Traceback (most recent call last)",
      "\u001b[0;32m<ipython-input-30-c81023951d1b>\u001b[0m in \u001b[0;36m<module>\u001b[0;34m()\u001b[0m\n\u001b[0;32m----> 1\u001b[0;31m \u001b[0mprint\u001b[0m\u001b[0;34m(\u001b[0m\u001b[0mlang\u001b[0m\u001b[0;34m)\u001b[0m\u001b[0;34m\u001b[0m\u001b[0m\n\u001b[0m",
      "\u001b[0;31mNameError\u001b[0m: name 'lang' is not defined"
     ]
    }
   ],
   "source": [
    "print(lang)"
   ]
  },
  {
   "cell_type": "markdown",
   "metadata": {},
   "source": [
    "Often we want to use the output of a function as part of an **expression**. The `return` keyword is used to specify what we want the function to output. In the previous examples, we used print() to tell the function what to output, like this:"
   ]
  },
  {
   "cell_type": "code",
   "execution_count": 31,
   "metadata": {},
   "outputs": [],
   "source": [
    "def perimeter(radius):\n",
    "    print(2*3.14*radius)"
   ]
  },
  {
   "cell_type": "markdown",
   "metadata": {},
   "source": [
    "However, `return` is a more flexible way of saying, \"this is the result\". Let's modify the function using the `return` keyword. This is better:"
   ]
  },
  {
   "cell_type": "code",
   "execution_count": 32,
   "metadata": {},
   "outputs": [],
   "source": [
    "def perimeter(radius):\n",
    "    return(2*3.14*radius)"
   ]
  },
  {
   "cell_type": "markdown",
   "metadata": {},
   "source": [
    "Now, we can use the function inside of an expression, such as this:"
   ]
  },
  {
   "cell_type": "code",
   "execution_count": 33,
   "metadata": {},
   "outputs": [
    {
     "name": "stdout",
     "output_type": "stream",
     "text": [
      "the perimeter of a circle with radius = 4 is 25.12\n"
     ]
    }
   ],
   "source": [
    "print('the perimeter of a circle with radius = 4 is', perimeter(4))"
   ]
  },
  {
   "cell_type": "markdown",
   "metadata": {},
   "source": [
    "We can define more than one input parameter in the function definition. When we invoke the function, the number of arguments must match the number of parameters that the function expects. Here is an example of a function with **two** parameters:"
   ]
  },
  {
   "cell_type": "code",
   "execution_count": 34,
   "metadata": {},
   "outputs": [],
   "source": [
    "def addtwo(a, b):\n",
    "    added = a + b\n",
    "    return added"
   ]
  },
  {
   "cell_type": "code",
   "execution_count": 35,
   "metadata": {},
   "outputs": [
    {
     "name": "stdout",
     "output_type": "stream",
     "text": [
      "8\n"
     ]
    }
   ],
   "source": [
    "x = addtwo(3, 5)\n",
    "print(x)"
   ]
  },
  {
   "cell_type": "markdown",
   "metadata": {},
   "source": [
    "## Advanced Concepts: args and kwargs"
   ]
  },
  {
   "cell_type": "markdown",
   "metadata": {},
   "source": [
    "In the function above called \"addtwo\", we showed that a function with **two** arguments must have **two** inputs. Well, this isn't entirely true. Python makes it possible to write functions with **unspecified numbers of inputs**. \n",
    "\n",
    "Suppose you wanted to write a function that adds together all of the inputs, regardless of the number of inputs. We can use an asterisk `*` to specify an argument (**arg**) with **variable length**. The `*` goes directly before the parameter name that is variable length. Here is an example of a function that will add together the inputs, no matter how many there are. "
   ]
  },
  {
   "cell_type": "code",
   "execution_count": 36,
   "metadata": {},
   "outputs": [],
   "source": [
    "def adder(*num): # num is variable length\n",
    "    sum = 0\n",
    "    \n",
    "    for n in num:\n",
    "        sum = sum + n\n",
    "    return sum"
   ]
  },
  {
   "cell_type": "code",
   "execution_count": 37,
   "metadata": {},
   "outputs": [
    {
     "data": {
      "text/plain": [
       "7"
      ]
     },
     "execution_count": 37,
     "metadata": {},
     "output_type": "execute_result"
    }
   ],
   "source": [
    "adder(2,5)"
   ]
  },
  {
   "cell_type": "code",
   "execution_count": 38,
   "metadata": {},
   "outputs": [
    {
     "data": {
      "text/plain": [
       "15"
      ]
     },
     "execution_count": 38,
     "metadata": {},
     "output_type": "execute_result"
    }
   ],
   "source": [
    "adder(1,2,3,4,5)"
   ]
  },
  {
   "cell_type": "markdown",
   "metadata": {},
   "source": [
    "In the previous example, we used **args** to specify a non-keyword argument. **kwargs** allow us to pass variable length **keyword arguments**, such as dictionaries (covered in Intermediate Python). \n",
    "\n",
    "In the function definition, we use the double asterisk `**` before the parameter name to specify a variable length keyword argument. The arguments are passed in as a dictionary, and the arguments exist inside the function as a dictionary. Here is an example:"
   ]
  },
  {
   "cell_type": "code",
   "execution_count": 39,
   "metadata": {},
   "outputs": [],
   "source": [
    "def intro(**data):\n",
    "    for key, value in data.items():\n",
    "        print(key, value)"
   ]
  },
  {
   "cell_type": "code",
   "execution_count": 40,
   "metadata": {},
   "outputs": [
    {
     "name": "stdout",
     "output_type": "stream",
     "text": [
      "my_name jon\n",
      "your_name sophia\n"
     ]
    }
   ],
   "source": [
    "intro(my_name = \"jon\", your_name = \"sophia\")"
   ]
  }
 ],
 "metadata": {
  "kernelspec": {
   "display_name": "Python 3",
   "language": "python",
   "name": "python3"
  },
  "language_info": {
   "codemirror_mode": {
    "name": "ipython",
    "version": 3
   },
   "file_extension": ".py",
   "mimetype": "text/x-python",
   "name": "python",
   "nbconvert_exporter": "python",
   "pygments_lexer": "ipython3",
   "version": "3.6.8"
  }
 },
 "nbformat": 4,
 "nbformat_minor": 2
}
