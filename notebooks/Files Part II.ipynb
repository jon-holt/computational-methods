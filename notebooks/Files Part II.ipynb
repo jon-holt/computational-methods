{
 "cells": [
  {
   "cell_type": "markdown",
   "metadata": {},
   "source": [
    "# Files Part II"
   ]
  },
  {
   "cell_type": "markdown",
   "metadata": {},
   "source": [
    "In Part I, we learned that a file handle serves as a translator between Python and the actual file. The handle can also be thought of as a **sequence**, where each **element** in the sequence is a **line** of text. \n",
    "\n",
    "We know that `for` loops are used to read each element in a sequence. So, we can use a `for` loop to read each line in a file. \n",
    "\n",
    "First, let's make up a random text file. "
   ]
  },
  {
   "cell_type": "code",
   "execution_count": 1,
   "metadata": {},
   "outputs": [],
   "source": [
    "file1 = open(\"myfile.txt\",\"w\") # create a text file called myfile.txt\n",
    "L = [\"This is the first line \\n\",\"This is the second line \\n\",\"Final line! \\n\"] # write some text\n",
    "file1.writelines(L) # write the text to the file\n",
    "file1.close() # close the file"
   ]
  },
  {
   "cell_type": "markdown",
   "metadata": {},
   "source": [
    "Now, we can read the file line-by-line using a `for` loop. "
   ]
  },
  {
   "cell_type": "code",
   "execution_count": 1,
   "metadata": {},
   "outputs": [
    {
     "name": "stdout",
     "output_type": "stream",
     "text": [
      "This is the first line \n",
      "\n",
      "This is the second line \n",
      "\n",
      "Final line! \n",
      "\n"
     ]
    }
   ],
   "source": [
    "fhandle = open('myfile.txt')\n",
    "for line in fhandle:\n",
    "    print(line)"
   ]
  },
  {
   "cell_type": "markdown",
   "metadata": {},
   "source": [
    " What if we wanted to **count** the number of lines in a file? We can combine our knowledge of file handling and `for` loops to write a program that counts lines in a text file:"
   ]
  },
  {
   "cell_type": "code",
   "execution_count": 3,
   "metadata": {},
   "outputs": [
    {
     "name": "stdout",
     "output_type": "stream",
     "text": [
      "Line Count: 3\n"
     ]
    }
   ],
   "source": [
    "fhand = open('myfile.txt')\n",
    "count = 0\n",
    "for line in fhand:\n",
    "    count = count + 1\n",
    "print('Line Count:', count)\n"
   ]
  },
  {
   "cell_type": "markdown",
   "metadata": {},
   "source": [
    "Instead of printing or counting the lines individually, we may want to store the whole file in a single string variable. We can read the whole file at once using the `read()` function. "
   ]
  },
  {
   "cell_type": "code",
   "execution_count": 5,
   "metadata": {},
   "outputs": [
    {
     "name": "stdout",
     "output_type": "stream",
     "text": [
      "62\n",
      "This is t\n"
     ]
    }
   ],
   "source": [
    "fhand = open('myfile.txt')\n",
    "inp = fhand.read()\n",
    "print(len(inp))\n",
    "print(inp[:9]) # print the first 10 characters of the string"
   ]
  },
  {
   "cell_type": "markdown",
   "metadata": {},
   "source": [
    "Now, suppose you wanted to **search** through a file to look for something in particular. We can put an `if` statement inside a `for` loop to print only lines that meet some criteria. "
   ]
  },
  {
   "cell_type": "code",
   "execution_count": 6,
   "metadata": {},
   "outputs": [
    {
     "name": "stdout",
     "output_type": "stream",
     "text": [
      "This is the first line \n",
      "\n",
      "This is the second line \n",
      "\n"
     ]
    }
   ],
   "source": [
    "fhand = open('myfile.txt')\n",
    "for line in fhand:\n",
    "    if line.startswith('This'): # find lines that start with \"This\"\n",
    "        print(line)"
   ]
  },
  {
   "cell_type": "markdown",
   "metadata": {},
   "source": [
    "Notice that the output of the previous chunk has extra blank lines between the lines of text. In order to get rid of these extra lines, we must strip the `\\n` character from the lines of text. We use `rstrip()` to strip the whitespace from the right-hand side of the string. The `\\n` is considered whitespace and will be removed from the line by `rstrip()`. "
   ]
  },
  {
   "cell_type": "code",
   "execution_count": 19,
   "metadata": {},
   "outputs": [
    {
     "name": "stdout",
     "output_type": "stream",
     "text": [
      "This is the first line\n",
      "This is the second line\n"
     ]
    }
   ],
   "source": [
    "fhand = open('myfile.txt')\n",
    "for line in fhand:\n",
    "    line = line.rstrip()\n",
    "    if line.startswith('This'):\n",
    "        print(line)"
   ]
  },
  {
   "cell_type": "markdown",
   "metadata": {},
   "source": [
    "Instead of using `if` to find lines that contain our keyword, we can use `if not` and `continue` to **skip** lines that we are not interested in.  "
   ]
  },
  {
   "cell_type": "code",
   "execution_count": 7,
   "metadata": {},
   "outputs": [
    {
     "name": "stdout",
     "output_type": "stream",
     "text": [
      "This is the first line\n",
      "This is the second line\n"
     ]
    }
   ],
   "source": [
    "fhand = open('myfile.txt')\n",
    "for line in fhand:\n",
    "    line = line.rstrip()\n",
    "    if not line.startswith('This'):\n",
    "        continue\n",
    "    print(line)"
   ]
  },
  {
   "cell_type": "markdown",
   "metadata": {},
   "source": [
    "We can use `in` to find a line that contains our selection criteria, regardless of whether the criteria occurs at the beginning, middle, or end of the string. In this example, we find all of the lines that contain the word, \"second\". "
   ]
  },
  {
   "cell_type": "code",
   "execution_count": 8,
   "metadata": {},
   "outputs": [
    {
     "name": "stdout",
     "output_type": "stream",
     "text": [
      "This is the second line\n"
     ]
    }
   ],
   "source": [
    "fhand = open('myfile.txt')\n",
    "for line in fhand:\n",
    "    line = line.rstrip()\n",
    "    if not'second' in line:\n",
    "        continue\n",
    "    print(line)"
   ]
  },
  {
   "cell_type": "markdown",
   "metadata": {},
   "source": [
    "Often the **filename** itself is a **variable**. An example of the filename being a variable would be if we were looping through a bunch of different filenames. Another example of the filename being a variable would be if we asked the user to input a filename. \n",
    "\n",
    "In the example below, we ask the user to input a filename. If you supply a real filename, such as \"myfile.txt\", then the code will work. If you specify a filename that does not exist, then you will get an error. Try it both ways!"
   ]
  },
  {
   "cell_type": "code",
   "execution_count": 10,
   "metadata": {},
   "outputs": [
    {
     "name": "stdout",
     "output_type": "stream",
     "text": [
      "Enter the file name: myfile.txt\n",
      "There were 2 lines that started with \"This\"\n"
     ]
    }
   ],
   "source": [
    "fname = input('Enter the file name: ')\n",
    "fhand = open(fname)\n",
    "count = 0\n",
    "for line in fhand:\n",
    "    if line.startswith('This'):\n",
    "        count = count + 1\n",
    "print('There were', count, 'lines that started with \"This\"')"
   ]
  },
  {
   "cell_type": "markdown",
   "metadata": {},
   "source": [
    "The reason we are talking about **filenames** is because filenames are notorious for causing errors. One main reason filenames cause erros is because files often get moved around or deleted. If the computer expects a file to be present but it is missing, then it will cause an error!\n",
    "\n",
    "Fortunately, we can use the `try`, `except` structure to keep the program running even if the file is missing (or mispelled). The code below will run whether or not a working filename is supplied. "
   ]
  },
  {
   "cell_type": "code",
   "execution_count": 11,
   "metadata": {},
   "outputs": [
    {
     "name": "stdout",
     "output_type": "stream",
     "text": [
      "Enter the file name: BestFileEver.txt\n",
      "File cannot be opened: BestFileEver.txt\n",
      "There were 0 lines that started with \"This\"\n"
     ]
    }
   ],
   "source": [
    "fname = input('Enter the file name: ')\n",
    "try:\n",
    "    fhand = open(fname)\n",
    "except:\n",
    "    print('File cannot be opened:', fname)\n",
    "    quit()\n",
    "    \n",
    "count = 0\n",
    "for line in fhand:\n",
    "    if line.startswith('This'):\n",
    "        count = count + 1\n",
    "print('There were', count, 'lines that started with \"This\"')"
   ]
  }
 ],
 "metadata": {
  "kernelspec": {
   "display_name": "Python 3",
   "language": "python",
   "name": "python3"
  },
  "language_info": {
   "codemirror_mode": {
    "name": "ipython",
    "version": 3
   },
   "file_extension": ".py",
   "mimetype": "text/x-python",
   "name": "python",
   "nbconvert_exporter": "python",
   "pygments_lexer": "ipython3",
   "version": "3.6.8"
  }
 },
 "nbformat": 4,
 "nbformat_minor": 2
}
