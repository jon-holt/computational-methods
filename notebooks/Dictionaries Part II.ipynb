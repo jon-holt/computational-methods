{
 "cells": [
  {
   "cell_type": "markdown",
   "metadata": {},
   "source": [
    "# Dictionaries Part II"
   ]
  },
  {
   "cell_type": "markdown",
   "metadata": {},
   "source": [
    "The `in` operator can be used with dictionaries to return whether or not a **key** is in the dictionary. For example, suppose you wanted to know if the key \"Sophia\" was in a dictionary:"
   ]
  },
  {
   "cell_type": "code",
   "execution_count": 2,
   "metadata": {},
   "outputs": [
    {
     "data": {
      "text/plain": [
       "False"
      ]
     },
     "execution_count": 2,
     "metadata": {},
     "output_type": "execute_result"
    }
   ],
   "source": [
    "Dukies = {'Heather': 1, 'Shawn': 5, 'Quentin': 50} \n",
    "'Sophia' in Dukies"
   ]
  },
  {
   "cell_type": "markdown",
   "metadata": {},
   "source": [
    "To illustrate a useful application of dictionaries, we will write a program that counts the frequencies of names in a list. When we encounter a new name, the program adds a new entry in the dictionary. If this is the second (or later) time we have seen the name, then we add one to the count in the dictionary under that name. "
   ]
  },
  {
   "cell_type": "code",
   "execution_count": 3,
   "metadata": {},
   "outputs": [
    {
     "name": "stdout",
     "output_type": "stream",
     "text": [
      "{'Cassius': 3, 'Tre': 2, 'Javin': 1}\n"
     ]
    }
   ],
   "source": [
    "counts = dict() # empty dictionary\n",
    "names = ['Cassius', 'Tre', 'Cassius', 'Javin', 'Tre', 'Cassius']\n",
    "for name in names:\n",
    "    if name not in counts:\n",
    "        counts[name] = 1\n",
    "    else:\n",
    "        counts[name] = counts[name] + 1\n",
    "print(counts)"
   ]
  },
  {
   "cell_type": "markdown",
   "metadata": {},
   "source": [
    "The routine of filling up a dictionary with frequencies is very common. In fact, it is so common that Python has a **method** called `get()` that accomplishes this task in one line of code. The `get()` method has two parameters: The first parameter is the list of keys to check; the second parameter is the default value for missing keys.  "
   ]
  },
  {
   "cell_type": "code",
   "execution_count": 4,
   "metadata": {},
   "outputs": [
    {
     "name": "stdout",
     "output_type": "stream",
     "text": [
      "{'Cassius': 3, 'Tre': 2, 'Javin': 1}\n"
     ]
    }
   ],
   "source": [
    "counts = dict()\n",
    "names = ['Cassius', 'Tre', 'Cassius', 'Javin', 'Tre', 'Cassius']\n",
    "for name in names:\n",
    "    counts[name] = counts.get(name, 0) + 1 # if name is absent, value is zero. If name is present, then add 1\n",
    "print(counts)"
   ]
  }
 ],
 "metadata": {
  "kernelspec": {
   "display_name": "Python 3",
   "language": "python",
   "name": "python3"
  },
  "language_info": {
   "codemirror_mode": {
    "name": "ipython",
    "version": 3
   },
   "file_extension": ".py",
   "mimetype": "text/x-python",
   "name": "python",
   "nbconvert_exporter": "python",
   "pygments_lexer": "ipython3",
   "version": "3.6.8"
  }
 },
 "nbformat": 4,
 "nbformat_minor": 2
}
