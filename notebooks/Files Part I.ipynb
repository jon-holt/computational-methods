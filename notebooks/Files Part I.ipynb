{
 "cells": [
  {
   "cell_type": "markdown",
   "metadata": {},
   "source": [
    "# Files Part I"
   ]
  },
  {
   "cell_type": "markdown",
   "metadata": {},
   "source": [
    "In Python we must specify which which file we are going to access before we actually access the file. This is one with the `open()` function. `open()` returns a **file handle**, which is a variable used to perform operations on the file. This is similar to clicking \"File -> Open\" in a word processor. \n",
    "\n",
    "Importantly, when we run the `open()` command, it doesn't actually open the file. It's more like saving an address and saying \"here's where we can find the file when we're ready.\" Handle is like a translator between you and the file. \n",
    "\n",
    "`open()` has two parameters: the name of the file to open, and a keyword specifying if we want to **read** or **write** a file. Be careful: A file can be **read** over and over again without being affected, but if we **write** a file more than once, it will be overwritten!\n",
    "\n",
    "The variable on the left side of the expression is the **handle** name that we get to choose."
   ]
  },
  {
   "cell_type": "markdown",
   "metadata": {},
   "source": [
    "Let's write a dummy file below so that we can practice opening it later. First, we open a new file connection using `open()`. You can name the file anything, as long as it ends in \".txt\". Then, we use the function `writelines()` to write lines of text to the file. Finally, we close the file. "
   ]
  },
  {
   "cell_type": "code",
   "execution_count": 1,
   "metadata": {},
   "outputs": [],
   "source": [
    "file1 = open(\"myfile.txt\",\"w\") # create a text file called myfile.txt\n",
    "file1.writelines(\"This is the first line\") # write the text to the file\n",
    "file1.close() # close the file"
   ]
  },
  {
   "cell_type": "markdown",
   "metadata": {},
   "source": [
    "Next, practice assigning a file handle to the file that we just made. We are not actually opening the file, but creating a path of communication so we can open the file later. "
   ]
  },
  {
   "cell_type": "code",
   "execution_count": 3,
   "metadata": {},
   "outputs": [
    {
     "name": "stdout",
     "output_type": "stream",
     "text": [
      "<_io.TextIOWrapper name='myfile.txt' mode='r' encoding='UTF-8'>\n"
     ]
    }
   ],
   "source": [
    "fhand = open('myfile.txt')\n",
    "print(fhand)"
   ]
  },
  {
   "cell_type": "markdown",
   "metadata": {},
   "source": [
    "We see some basic information about the file, such as the name, encoding, and the mode (r = \"read\"). \n",
    "\n",
    "Python reads text files line-by-line. For example, a text file with 10 lines would be imported into Python as a sequence of length 10, where each element of the sequence is a single line of text. \n",
    "\n",
    "It is worth mentioning how computers read \"lines\" in the first place. The **newline** character is a special character that indicates the end of a line (or the beginning of a new one). The newline character is represented as `\\n` in strings. \n",
    "\n",
    "Let's demonstrate by writing some text that includes a newline character. "
   ]
  },
  {
   "cell_type": "code",
   "execution_count": 1,
   "metadata": {},
   "outputs": [
    {
     "name": "stdout",
     "output_type": "stream",
     "text": [
      "Hello\n",
      "World!\n"
     ]
    }
   ],
   "source": [
    "stuff = \"Hello\\nWorld!\"\n",
    "print(stuff)"
   ]
  },
  {
   "cell_type": "markdown",
   "metadata": {},
   "source": [
    "Notice that `\\n` counts as only one character (not two!). "
   ]
  },
  {
   "cell_type": "code",
   "execution_count": 6,
   "metadata": {},
   "outputs": [
    {
     "data": {
      "text/plain": [
       "12"
      ]
     },
     "execution_count": 6,
     "metadata": {},
     "output_type": "execute_result"
    }
   ],
   "source": [
    "len(stuff) # length of a variable"
   ]
  },
  {
   "cell_type": "markdown",
   "metadata": {},
   "source": [
    "A text file can be thought of as a sequence of lines. When we read a text file, the computer detects each `\\n` character and determines what constitutes each line. \n",
    "\n",
    "As a programmer, we can take advantage of the structure of text files. In Part II, we will read text files line-by-line. "
   ]
  }
 ],
 "metadata": {
  "kernelspec": {
   "display_name": "Python 3",
   "language": "python",
   "name": "python3"
  },
  "language_info": {
   "codemirror_mode": {
    "name": "ipython",
    "version": 3
   },
   "file_extension": ".py",
   "mimetype": "text/x-python",
   "name": "python",
   "nbconvert_exporter": "python",
   "pygments_lexer": "ipython3",
   "version": "3.6.8"
  }
 },
 "nbformat": 4,
 "nbformat_minor": 2
}
