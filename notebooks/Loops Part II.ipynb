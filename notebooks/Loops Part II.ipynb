{
 "cells": [
  {
   "cell_type": "markdown",
   "metadata": {},
   "source": [
    "# Loops Part II"
   ]
  },
  {
   "cell_type": "markdown",
   "metadata": {},
   "source": [
    "Loops that use the `while` statement are called **indefinite loops** because they keep going until a logical condition becomes `False`. As we have seen, they can keep going forever! \n",
    "\n",
    "More commonly, we use **definite loops**. Definite loops are used to iterate through a list that has a finite dimension. For example, we might want to iterate through pages of text in order to count the words on each page. Or, we might want to iterate through rows of a matrix to calculate the mean value of each row. Using the `for` command, we can write a loop that executes a block of code `for` each item in our sequence (pages, rows, etc.)\n",
    "\n",
    "Just like indefinite loops, definite loops also have an **iteration variable** that changes each time through the loop. The iteration variable \"iterates\" through the sequence. For each value in the sequence, we run the chunk of code. Here is a simple example:"
   ]
  },
  {
   "cell_type": "code",
   "execution_count": 3,
   "metadata": {},
   "outputs": [
    {
     "name": "stdout",
     "output_type": "stream",
     "text": [
      "5\n",
      "4\n",
      "3\n",
      "2\n",
      "1\n",
      "Blastoff\n"
     ]
    }
   ],
   "source": [
    "for i in [5, 4, 3, 2, 1]:\n",
    "    print(i)\n",
    "print('Blastoff')"
   ]
  },
  {
   "cell_type": "markdown",
   "metadata": {},
   "source": [
    "Here is another example with strings. In this example, our iteration variable is a word (\"player\") instead of a letter like \"i\" or \"n\". The iteration variable can be anything you want!"
   ]
  },
  {
   "cell_type": "code",
   "execution_count": 1,
   "metadata": {},
   "outputs": [
    {
     "name": "stdout",
     "output_type": "stream",
     "text": [
      "Beat UNC Zion\n",
      "Beat UNC Javin\n",
      "Beat UNC Cassius\n",
      "Done!\n"
     ]
    }
   ],
   "source": [
    "players = ['Zion', 'Javin', 'Cassius'] # players is the sequence\n",
    "for player in players: # player is the iteration variable\n",
    "    print('Beat UNC', player)\n",
    "print('Done!')"
   ]
  }
 ],
 "metadata": {
  "kernelspec": {
   "display_name": "Python 3",
   "language": "python",
   "name": "python3"
  },
  "language_info": {
   "codemirror_mode": {
    "name": "ipython",
    "version": 3
   },
   "file_extension": ".py",
   "mimetype": "text/x-python",
   "name": "python",
   "nbconvert_exporter": "python",
   "pygments_lexer": "ipython3",
   "version": "3.6.8"
  },
  "toc": {
   "base_numbering": 1,
   "nav_menu": {},
   "number_sections": true,
   "sideBar": true,
   "skip_h1_title": false,
   "title_cell": "Table of Contents",
   "title_sidebar": "Contents",
   "toc_cell": true,
   "toc_position": {},
   "toc_section_display": true,
   "toc_window_display": false
  }
 },
 "nbformat": 4,
 "nbformat_minor": 2
}
