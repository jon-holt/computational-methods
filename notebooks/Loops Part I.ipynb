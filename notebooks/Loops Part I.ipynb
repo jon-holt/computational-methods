{
 "cells": [
  {
   "cell_type": "markdown",
   "metadata": {},
   "source": [
    "# Loops Part I"
   ]
  },
  {
   "cell_type": "markdown",
   "metadata": {},
   "source": [
    "Loops rely on two key components:\n",
    "1. **conditional statement** (e.g., `For`, `While`)\n",
    "2. **iteration variable** \n",
    "\n",
    "The **iteration variable** changes value each time through the loop. In the following code, the iteration variable is **n**. Notice that **n** begins with a value of 5, then decreases by 1 each iteration. The **conditional statement** in this example is `while`."
   ]
  },
  {
   "cell_type": "code",
   "execution_count": 1,
   "metadata": {},
   "outputs": [
    {
     "name": "stdout",
     "output_type": "stream",
     "text": [
      "5\n",
      "4\n",
      "3\n",
      "2\n",
      "1\n",
      "Blastoff!\n",
      "0\n"
     ]
    }
   ],
   "source": [
    "n = 5\n",
    "while n > 0:\n",
    "    print(n)\n",
    "    n = n - 1\n",
    "print('Blastoff!')\n",
    "print(n)"
   ]
  },
  {
   "cell_type": "markdown",
   "metadata": {},
   "source": [
    "If the iteration variable does not change each time through a loop, then the loop will not work! Here is an example of a loop that will run forever:\n",
    "\n",
    "(note: the code is commented-out because, as we mentioned, it will run forever!)"
   ]
  },
  {
   "cell_type": "code",
   "execution_count": 4,
   "metadata": {},
   "outputs": [],
   "source": [
    "#n = 5\n",
    "#while n > 0:\n",
    "#    print ('Lather')\n",
    "#    print ('Rinse')\n",
    "#print ('Dry off!')"
   ]
  },
  {
   "cell_type": "markdown",
   "metadata": {},
   "source": [
    "The `break` statement is used to **end** the current loop and jump to the statement immediately after the loop. In the following code, the loop will break whenever x is equal to 4.  "
   ]
  },
  {
   "cell_type": "code",
   "execution_count": 2,
   "metadata": {},
   "outputs": [
    {
     "name": "stdout",
     "output_type": "stream",
     "text": [
      "1\n",
      "2\n",
      "3\n",
      "Done!\n"
     ]
    }
   ],
   "source": [
    "for x in range(5): # range(5) means [0,1,2,3,4]\n",
    "    x = x + 1\n",
    "    if x == 4:\n",
    "        break\n",
    "    print(x)\n",
    "print('Done!')"
   ]
  },
  {
   "cell_type": "markdown",
   "metadata": {},
   "source": [
    "`continue` is another Python statement that ends the current iteration and jumps to the **beginning** of the loop to start the next iteration. Notice that 4 is missing from the loop below:"
   ]
  },
  {
   "cell_type": "code",
   "execution_count": 3,
   "metadata": {},
   "outputs": [
    {
     "name": "stdout",
     "output_type": "stream",
     "text": [
      "1\n",
      "2\n",
      "3\n",
      "5\n",
      "Done!\n"
     ]
    }
   ],
   "source": [
    "for x in range(5):\n",
    "    x = x + 1\n",
    "    if x == 4:\n",
    "        continue\n",
    "    print(x)\n",
    "print('Done!')"
   ]
  }
 ],
 "metadata": {
  "kernelspec": {
   "display_name": "Python 3",
   "language": "python",
   "name": "python3"
  },
  "language_info": {
   "codemirror_mode": {
    "name": "ipython",
    "version": 3
   },
   "file_extension": ".py",
   "mimetype": "text/x-python",
   "name": "python",
   "nbconvert_exporter": "python",
   "pygments_lexer": "ipython3",
   "version": "3.6.8"
  },
  "toc": {
   "base_numbering": 1,
   "nav_menu": {},
   "number_sections": true,
   "sideBar": true,
   "skip_h1_title": false,
   "title_cell": "Table of Contents",
   "title_sidebar": "Contents",
   "toc_cell": true,
   "toc_position": {},
   "toc_section_display": true,
   "toc_window_display": false
  }
 },
 "nbformat": 4,
 "nbformat_minor": 2
}
