{
 "cells": [
  {
   "cell_type": "markdown",
   "metadata": {},
   "source": [
    "# Multi-way Decisions"
   ]
  },
  {
   "cell_type": "markdown",
   "metadata": {},
   "source": [
    "The reserved word `elif` is another **conditional statement** that means \"else if\". By combining `if`, `elif` and `else`, we can create many decision thresholds. Remember, Python will always execute the **first** statement that is `True`. So, if you have two `True` statements in your conditional statement, Python will only run the **first** one. If all of your statements are `False`, then Python will not run anything. Here is an example of a multi-way decision:"
   ]
  },
  {
   "cell_type": "code",
   "execution_count": 4,
   "metadata": {},
   "outputs": [
    {
     "name": "stdout",
     "output_type": "stream",
     "text": [
      "Ginormous\n"
     ]
    }
   ],
   "source": [
    "x = 200\n",
    "if x < 2:\n",
    "    print('small')\n",
    "elif x < 10:\n",
    "    print('Medium')\n",
    "elif x < 20:\n",
    "    print('Large')\n",
    "elif x < 100:\n",
    "    print('Huge')\n",
    "else:\n",
    "    print('Ginormous')"
   ]
  },
  {
   "cell_type": "markdown",
   "metadata": {},
   "source": [
    "Here is an example of a line of code that will **never** run: "
   ]
  },
  {
   "cell_type": "code",
   "execution_count": 7,
   "metadata": {},
   "outputs": [
    {
     "name": "stdout",
     "output_type": "stream",
     "text": [
      "Two or more\n"
     ]
    }
   ],
   "source": [
    "x = 200\n",
    "if x < 2:\n",
    "    print('Below 2') # False\n",
    "elif x >= 2:\n",
    "    print('Two or more') # True\n",
    "else:\n",
    "    print('Something else') # This line will never run because x is always either < 2 or >=2"
   ]
  },
  {
   "cell_type": "markdown",
   "metadata": {},
   "source": [
    "Normally, Python stops running when it encounters an **exception** (error). However, if you want Python to **skip** an exception and keep running, then you can surround the problematic code chunk with the reserved words `try` and `except`. Python will \"try\" to run the code first. If it doesn't work, then Python will skip to the chunk of code that begins with `except`. \n",
    "\n",
    "Here is an example of code that contains an erroneous line. Regardless of the error, the code continues to run because we have placed the problemic code between `try` and `except`.  "
   ]
  },
  {
   "cell_type": "code",
   "execution_count": 1,
   "metadata": {},
   "outputs": [
    {
     "name": "stdout",
     "output_type": "stream",
     "text": [
      "Result: -1\n"
     ]
    }
   ],
   "source": [
    "string_variable = 'Go Duke!'\n",
    "try:\n",
    "    integer_variable = int(string_variable) # you cannot convert text to an integer!\n",
    "except:\n",
    "    integer_variable = -1 # so, we skip to this line\n",
    "print('Result:', integer_variable)"
   ]
  }
 ],
 "metadata": {
  "kernelspec": {
   "display_name": "Python 3",
   "language": "python",
   "name": "python3"
  },
  "language_info": {
   "codemirror_mode": {
    "name": "ipython",
    "version": 3
   },
   "file_extension": ".py",
   "mimetype": "text/x-python",
   "name": "python",
   "nbconvert_exporter": "python",
   "pygments_lexer": "ipython3",
   "version": "3.6.8"
  },
  "toc": {
   "base_numbering": 1,
   "nav_menu": {},
   "number_sections": true,
   "sideBar": true,
   "skip_h1_title": false,
   "title_cell": "Table of Contents",
   "title_sidebar": "Contents",
   "toc_cell": true,
   "toc_position": {},
   "toc_section_display": true,
   "toc_window_display": false
  }
 },
 "nbformat": 4,
 "nbformat_minor": 2
}
