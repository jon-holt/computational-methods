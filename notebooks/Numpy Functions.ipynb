{
 "cells": [
  {
   "cell_type": "markdown",
   "metadata": {},
   "source": [
    "# Numpy: Functions"
   ]
  },
  {
   "cell_type": "markdown",
   "metadata": {},
   "source": [
    "Now that we're comfortable **creating** data with **Numpy**, let's learn how to **manipulate** the data that we've created. "
   ]
  },
  {
   "cell_type": "code",
   "execution_count": 1,
   "metadata": {},
   "outputs": [],
   "source": [
    "import numpy as np"
   ]
  },
  {
   "cell_type": "markdown",
   "metadata": {},
   "source": [
    "## Matrix arithmetic and linear algebra"
   ]
  },
  {
   "cell_type": "markdown",
   "metadata": {},
   "source": [
    "Let's do some basic arithmetic. First, make a matrix using `as.array()`. One way to use `as.array()` is to supply a list of lists, where each list is a **row** of our matrix. "
   ]
  },
  {
   "cell_type": "code",
   "execution_count": 2,
   "metadata": {},
   "outputs": [
    {
     "name": "stdout",
     "output_type": "stream",
     "text": [
      "[[1 2]\n",
      " [0 1]]\n",
      "[[1 0]\n",
      " [2 1]]\n"
     ]
    }
   ],
   "source": [
    "A = np.asarray([[1,2],[0,1]])\n",
    "B = np.asarray([[1,0],[2,1]])\n",
    "print(A)\n",
    "print(B)"
   ]
  },
  {
   "cell_type": "markdown",
   "metadata": {},
   "source": [
    "The `+` operator in regular Python does exactly what you think it will do. `np.add()` is Numpy's version of the same thing. "
   ]
  },
  {
   "cell_type": "code",
   "execution_count": 3,
   "metadata": {},
   "outputs": [
    {
     "name": "stdout",
     "output_type": "stream",
     "text": [
      "sum:\n",
      " [[2 2]\n",
      " [2 2]]\n"
     ]
    }
   ],
   "source": [
    "print('sum:\\n', A+B)"
   ]
  },
  {
   "cell_type": "code",
   "execution_count": 4,
   "metadata": {},
   "outputs": [
    {
     "name": "stdout",
     "output_type": "stream",
     "text": [
      "sum:\n",
      " [[2 2]\n",
      " [2 2]]\n"
     ]
    }
   ],
   "source": [
    "print('sum:\\n', np.add(A,B))"
   ]
  },
  {
   "cell_type": "markdown",
   "metadata": {},
   "source": [
    " The `*` operator in regular Python yields **elementwise multiplication** (not matrix multiplication!). `np.multiply()` is Numpy's way to do elementwise multiplication."
   ]
  },
  {
   "cell_type": "code",
   "execution_count": 5,
   "metadata": {},
   "outputs": [
    {
     "name": "stdout",
     "output_type": "stream",
     "text": [
      "elementwise multiplication:\n",
      " [[1 0]\n",
      " [0 1]]\n"
     ]
    }
   ],
   "source": [
    "print('elementwise multiplication:\\n', A*B)"
   ]
  },
  {
   "cell_type": "code",
   "execution_count": 6,
   "metadata": {},
   "outputs": [
    {
     "name": "stdout",
     "output_type": "stream",
     "text": [
      "elementwise multiplication:\n",
      " [[1 0]\n",
      " [0 1]]\n"
     ]
    }
   ],
   "source": [
    "print('elementwise multiplication:\\n', np.multiply(A,B))"
   ]
  },
  {
   "cell_type": "markdown",
   "metadata": {},
   "source": [
    "Using regular python, we can use the character `@` to perform **matrix multiplication**. Using Numpy, we can use the `dot` method."
   ]
  },
  {
   "cell_type": "code",
   "execution_count": 10,
   "metadata": {},
   "outputs": [
    {
     "name": "stdout",
     "output_type": "stream",
     "text": [
      "dot product:\n",
      " [[5 2]\n",
      " [2 1]]\n"
     ]
    }
   ],
   "source": [
    "print('dot product:\\n',A@B)"
   ]
  },
  {
   "cell_type": "code",
   "execution_count": 7,
   "metadata": {},
   "outputs": [
    {
     "name": "stdout",
     "output_type": "stream",
     "text": [
      "dot product:\n",
      " [[5 2]\n",
      " [2 1]]\n"
     ]
    }
   ],
   "source": [
    "print('dot product:\\n',np.dot(A,B))"
   ]
  },
  {
   "cell_type": "markdown",
   "metadata": {},
   "source": [
    "How about the **inverse** and **transpose** of a matrix using Numpy?"
   ]
  },
  {
   "cell_type": "code",
   "execution_count": 12,
   "metadata": {},
   "outputs": [
    {
     "name": "stdout",
     "output_type": "stream",
     "text": [
      "[[ 1. -2.]\n",
      " [ 0.  1.]]\n"
     ]
    }
   ],
   "source": [
    "# inverse of A\n",
    "print(np.linalg.inv(A))"
   ]
  },
  {
   "cell_type": "code",
   "execution_count": 13,
   "metadata": {},
   "outputs": [
    {
     "name": "stdout",
     "output_type": "stream",
     "text": [
      "[[1 0]\n",
      " [2 1]]\n"
     ]
    }
   ],
   "source": [
    "# traspose of A\n",
    "print(A.T)"
   ]
  },
  {
   "cell_type": "markdown",
   "metadata": {},
   "source": [
    "`np.sum()` computes the sum of elements in a matrix. We can also specify which axis we would like to sum over, thereby obtaining **column sums** or **row sums**. "
   ]
  },
  {
   "cell_type": "code",
   "execution_count": 9,
   "metadata": {},
   "outputs": [
    {
     "name": "stdout",
     "output_type": "stream",
     "text": [
      "10\n",
      "[4 6]\n",
      "[3 7]\n"
     ]
    }
   ],
   "source": [
    "x = np.array([[1,2],[3,4]])\n",
    "\n",
    "print(np.sum(x))  # Compute sum of all elements\n",
    "print(np.sum(x, axis=0))  # Compute sum of each column\n",
    "print(np.sum(x, axis=1))  # Compute sum of each row"
   ]
  },
  {
   "cell_type": "markdown",
   "metadata": {},
   "source": [
    "## Reshaping and axis swapping"
   ]
  },
  {
   "cell_type": "markdown",
   "metadata": {},
   "source": [
    "You can **reshape** a matrix given that the number of elements is unchanged."
   ]
  },
  {
   "cell_type": "code",
   "execution_count": 14,
   "metadata": {},
   "outputs": [
    {
     "name": "stdout",
     "output_type": "stream",
     "text": [
      "[[ 0  1  2  3  4  5]\n",
      " [ 6  7  8  9 10 11]\n",
      " [12 13 14 15 16 17]\n",
      " [18 19 20 21 22 23]\n",
      " [24 25 26 27 28 29]]\n"
     ]
    }
   ],
   "source": [
    "a_long_vector = np.asarray(range(30))\n",
    "as_matrix = a_long_vector.reshape(5,6)\n",
    "print(as_matrix)"
   ]
  },
  {
   "cell_type": "markdown",
   "metadata": {},
   "source": [
    "Above, the matrix was re-shaped in a **row-wise** fashion. If we wish to reshape in a **column-wise** fashion, we can specify the argument `order = F`. Notice the difference between the previous matrix and this one:"
   ]
  },
  {
   "cell_type": "code",
   "execution_count": 16,
   "metadata": {},
   "outputs": [
    {
     "name": "stdout",
     "output_type": "stream",
     "text": [
      "[[ 0  5 10 15 20 25]\n",
      " [ 1  6 11 16 21 26]\n",
      " [ 2  7 12 17 22 27]\n",
      " [ 3  8 13 18 23 28]\n",
      " [ 4  9 14 19 24 29]]\n"
     ]
    }
   ],
   "source": [
    "another_matrix = a_long_vector.reshape(5,6,order='F')\n",
    "print(another_matrix)"
   ]
  },
  {
   "cell_type": "markdown",
   "metadata": {},
   "source": [
    "## Concatenating "
   ]
  },
  {
   "cell_type": "markdown",
   "metadata": {},
   "source": [
    "**Concatening** two arrays involves combining them along all axes for which they have the same size. This is how we can create a 'tall' table out of two shorter ones... or a 'wide' table out of two skinny ones. "
   ]
  },
  {
   "cell_type": "code",
   "execution_count": 17,
   "metadata": {},
   "outputs": [
    {
     "name": "stdout",
     "output_type": "stream",
     "text": [
      "(8, 5)\n"
     ]
    }
   ],
   "source": [
    "# create an empty matrix\n",
    "A = np.empty([5,5])\n",
    "B = np.empty([3,5])\n",
    "\n",
    "# concatenate along the first axis\n",
    "C = np.concatenate([A,B],axis=0)\n",
    "print(C.shape)"
   ]
  },
  {
   "cell_type": "code",
   "execution_count": 20,
   "metadata": {},
   "outputs": [
    {
     "name": "stdout",
     "output_type": "stream",
     "text": [
      "(6, 3)\n"
     ]
    }
   ],
   "source": [
    "# create an empty matrix\n",
    "D = np.empty([6,2])\n",
    "E = np.empty([6,1])\n",
    "\n",
    "# concatenate along the second axis\n",
    "F = np.concatenate([E,D],axis=1)\n",
    "print(F.shape)"
   ]
  }
 ],
 "metadata": {
  "kernelspec": {
   "display_name": "Python 3",
   "language": "python",
   "name": "python3"
  },
  "language_info": {
   "codemirror_mode": {
    "name": "ipython",
    "version": 3
   },
   "file_extension": ".py",
   "mimetype": "text/x-python",
   "name": "python",
   "nbconvert_exporter": "python",
   "pygments_lexer": "ipython3",
   "version": "3.6.8"
  }
 },
 "nbformat": 4,
 "nbformat_minor": 2
}
