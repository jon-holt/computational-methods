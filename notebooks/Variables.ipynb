{
 "cells": [
  {
   "cell_type": "markdown",
   "metadata": {},
   "source": [
    "# Variables"
   ]
  },
  {
   "cell_type": "markdown",
   "metadata": {},
   "source": [
    "**Constants** are fixed values such as numbers, letters, and strings. They are called constants because their values do not change. Below, we will use the `print()` function to display different types of constants. `print()` means \"put this on the screen\". \n",
    "\n",
    "**Numeric** constants can be entered as integer or decimal numbers. "
   ]
  },
  {
   "cell_type": "code",
   "execution_count": 5,
   "metadata": {},
   "outputs": [
    {
     "name": "stdout",
     "output_type": "stream",
     "text": [
      "123\n"
     ]
    }
   ],
   "source": [
    "print(123)"
   ]
  },
  {
   "cell_type": "code",
   "execution_count": 6,
   "metadata": {},
   "outputs": [
    {
     "name": "stdout",
     "output_type": "stream",
     "text": [
      "98.6\n"
     ]
    }
   ],
   "source": [
    "print(98.6)"
   ]
  },
  {
   "cell_type": "markdown",
   "metadata": {},
   "source": [
    "**String** (text) constants are entered using single quotes (') or double quotes (\")."
   ]
  },
  {
   "cell_type": "code",
   "execution_count": 7,
   "metadata": {},
   "outputs": [
    {
     "name": "stdout",
     "output_type": "stream",
     "text": [
      "Hello World\n"
     ]
    }
   ],
   "source": [
    "print ('Hello World')"
   ]
  },
  {
   "cell_type": "markdown",
   "metadata": {},
   "source": [
    "**Reserved words** are special words reserved for Python. If you try to name a variable with a reserved word such as `for` or `if`, then Python will give you an error message. Here are all of the reserved words:"
   ]
  },
  {
   "cell_type": "markdown",
   "metadata": {},
   "source": [
    "False  \n",
    "class  \n",
    "finally  \n",
    "is  \n",
    "return  \n",
    "None  \n",
    "continue  \n",
    "for  \n",
    "lambda  \n",
    "try  \n",
    "True  \n",
    "def  \n",
    "from  \n",
    "nonlocal  \n",
    "while  \n",
    "and  \n",
    "del  \n",
    "global  \n",
    "not  \n",
    "with  \n",
    "as  \n",
    "elif  \n",
    "if  \n",
    "or  \n",
    "yield  \n",
    "assert  \n",
    "else  \n",
    "import  \n",
    "pass  \n",
    "break  \n",
    "except  \n",
    "in  \n",
    "raise  "
   ]
  },
  {
   "cell_type": "markdown",
   "metadata": {},
   "source": [
    "**Variable names** must start with a letter or underscore (not a number!). Variable names are also case-sensitive. It is helpful to use **mnemonic** variable names, meaning that they \"mean something\" to the people reading and writing the program.  \n",
    "\n",
    "These are NOT mnemonic variable names:"
   ]
  },
  {
   "cell_type": "code",
   "execution_count": 8,
   "metadata": {},
   "outputs": [],
   "source": [
    "a = 35\n",
    "b = 12.50\n",
    "c = a * b"
   ]
  },
  {
   "cell_type": "markdown",
   "metadata": {},
   "source": [
    "These are mnemonic variable names:"
   ]
  },
  {
   "cell_type": "code",
   "execution_count": 9,
   "metadata": {},
   "outputs": [],
   "source": [
    "hours = 35\n",
    "rate = 12.50\n",
    "pay = hours * rate"
   ]
  }
 ],
 "metadata": {
  "kernelspec": {
   "display_name": "Python 3",
   "language": "python",
   "name": "python3"
  },
  "language_info": {
   "codemirror_mode": {
    "name": "ipython",
    "version": 3
   },
   "file_extension": ".py",
   "mimetype": "text/x-python",
   "name": "python",
   "nbconvert_exporter": "python",
   "pygments_lexer": "ipython3",
   "version": "3.6.8"
  },
  "toc": {
   "base_numbering": 1,
   "nav_menu": {},
   "number_sections": true,
   "sideBar": true,
   "skip_h1_title": false,
   "title_cell": "Table of Contents",
   "title_sidebar": "Contents",
   "toc_cell": true,
   "toc_position": {},
   "toc_section_display": true,
   "toc_window_display": false
  }
 },
 "nbformat": 4,
 "nbformat_minor": 2
}
