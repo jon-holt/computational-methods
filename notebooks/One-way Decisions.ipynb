{
 "cells": [
  {
   "cell_type": "markdown",
   "metadata": {},
   "source": [
    "# One-way Decisions"
   ]
  },
  {
   "cell_type": "markdown",
   "metadata": {},
   "source": [
    "**Conditional** statements use reserved Python words such as `if` and `while`. These statements ask a **boolean** (True/False) question. If the answer is `True`, then the code runs. If the statement is `False`, then the code does not run. For example:"
   ]
  },
  {
   "cell_type": "code",
   "execution_count": 1,
   "metadata": {},
   "outputs": [
    {
     "name": "stdout",
     "output_type": "stream",
     "text": [
      "Smaller\n",
      "Finis\n"
     ]
    }
   ],
   "source": [
    "x = 5\n",
    "if x < 10:\n",
    "    print('Smaller') # this will run because it is true\n",
    "if x > 20:\n",
    "    print('Bigger') # this will not run because it is false\n",
    "print('Finis')"
   ]
  },
  {
   "cell_type": "markdown",
   "metadata": {},
   "source": [
    "There are a number of **comparison operators** that we can use to ask these boolean (True/False) questions. Comparison operators include:\n",
    "\n",
    "| Operator | Meaning |\n",
    "| --- | --- | \n",
    "| `>` | greater than | \n",
    "| `>=` | greater than or equal to | \n",
    "| `==` | equal to | \n",
    "| `<` | less than | \n",
    "| `<=` | less than or equal to| \n",
    "| `!=` | not equal to | \n",
    "\n"
   ]
  },
  {
   "cell_type": "markdown",
   "metadata": {},
   "source": [
    "Comparison operators do not change the value of the variables. \n",
    "\n",
    "In the following example, every comparison operator is `True`. You should experiment with making some of them `False`. "
   ]
  },
  {
   "cell_type": "code",
   "execution_count": 5,
   "metadata": {},
   "outputs": [
    {
     "name": "stdout",
     "output_type": "stream",
     "text": [
      "Equals 5\n",
      "Greater than 4\n",
      "Greater than or Equals 5\n",
      "Less than 6\n",
      "Less than or Equals 5\n",
      "Not equal 6\n"
     ]
    }
   ],
   "source": [
    "x = 5\n",
    "if x == 5:\n",
    "    print('Equals 5')\n",
    "if x > 4:\n",
    "    print('Greater than 4')\n",
    "if x >= 5:\n",
    "    print('Greater than or Equals 5')\n",
    "if x < 6:\n",
    "    print('Less than 6')\n",
    "if x <= 5:\n",
    "    print('Less than or Equals 5')\n",
    "if x != 6:\n",
    "    print('Not equal 6')"
   ]
  },
  {
   "cell_type": "markdown",
   "metadata": {},
   "source": [
    "In this example, one statement is `True` and one is `False`."
   ]
  },
  {
   "cell_type": "code",
   "execution_count": 6,
   "metadata": {},
   "outputs": [
    {
     "name": "stdout",
     "output_type": "stream",
     "text": [
      "Equals 5\n",
      "Is a great number\n"
     ]
    }
   ],
   "source": [
    "x = 5\n",
    "if x == 5:\n",
    "    print('Equals 5')\n",
    "    print('Is a great number')\n",
    "if x == 6:\n",
    "    print('Equals 6')"
   ]
  },
  {
   "cell_type": "markdown",
   "metadata": {},
   "source": [
    "As you can see in the previous code examples, **indentation** is an essential part of Python. Indentation helps the reader comprehend structure (as with human written language), and it is also syntactically correct, meaning that Python will read things differently depending on whether or not you indent. \n",
    "\n",
    "After each conditional statement (`if`, `for`, etc.) you must indent. Keep the lines indented for the entire conditional statement. Then, reduce the indent again to indicate the end of the code block. \n",
    "\n",
    "**Blank lines** in Python code are okay; they will be ignored. In many coding environments, including Anaconda, you can use the \"tab\" key to indent lines. However, for some text editors, the tab key will produce an error. If the tab key produces an error, you must use **four spaces** to indicate an indentation. \n",
    "\n",
    "Here is an example of some code with **multiple** levels of indentation:"
   ]
  },
  {
   "cell_type": "code",
   "execution_count": 7,
   "metadata": {},
   "outputs": [
    {
     "name": "stdout",
     "output_type": "stream",
     "text": [
      "More than one\n",
      "Less than 100\n",
      "All done\n"
     ]
    }
   ],
   "source": [
    "x = 42\n",
    "if x > 1:\n",
    "    print('More than one')\n",
    "    if x < 100:\n",
    "        print('Less than 100')\n",
    "print('All done')"
   ]
  }
 ],
 "metadata": {
  "kernelspec": {
   "display_name": "Python 3",
   "language": "python",
   "name": "python3"
  },
  "language_info": {
   "codemirror_mode": {
    "name": "ipython",
    "version": 3
   },
   "file_extension": ".py",
   "mimetype": "text/x-python",
   "name": "python",
   "nbconvert_exporter": "python",
   "pygments_lexer": "ipython3",
   "version": "3.6.8"
  },
  "toc": {
   "base_numbering": 1,
   "nav_menu": {},
   "number_sections": true,
   "sideBar": true,
   "skip_h1_title": false,
   "title_cell": "Table of Contents",
   "title_sidebar": "Contents",
   "toc_cell": true,
   "toc_position": {},
   "toc_section_display": true,
   "toc_window_display": false
  }
 },
 "nbformat": 4,
 "nbformat_minor": 2
}
