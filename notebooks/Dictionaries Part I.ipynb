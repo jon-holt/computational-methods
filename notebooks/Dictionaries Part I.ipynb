{
 "cells": [
  {
   "cell_type": "markdown",
   "metadata": {},
   "source": [
    "# Dictionaries Part I"
   ]
  },
  {
   "cell_type": "markdown",
   "metadata": {},
   "source": [
    "Python **dictionaries**, like lists, are a type of **collection**. Recall that a collection is a way to store multiple pieces of information. \n",
    "\n",
    "Dictionaries are less structured than lists. Lists retain their order, and items in a list are indexed by their position. **Dictionaries**, on the other hand, do not have an order, and items in a dictionary are indexed by their labels. Dictionaries consist of **key-value** pairs, such that each piece of data (**value**) is associated with a label (**key**).\n",
    "\n",
    "A simple analogy for dictionaries is a coat check at a restaurant or theater. At a coat check you hand the attendant your coat or bag or umbrella, and the attendant gives you a number. When you retrieve your items at the end of the night, you hand the attendant your number (**key**) and the attendant returns your item (**value**). The order of the items at the coat check does not matter; as long as your coat is labeled with a number, and you have the number, you will be able to retrieve your coat. \n",
    "\n",
    "Let's make our own dictionary. Below, we create an empty dictionary and then fill it with 3 key-value pairs."
   ]
  },
  {
   "cell_type": "code",
   "execution_count": 1,
   "metadata": {},
   "outputs": [
    {
     "name": "stdout",
     "output_type": "stream",
     "text": [
      "{'money': 12, 'candy': 3, 'tissues': 75}\n"
     ]
    }
   ],
   "source": [
    "purse = dict() # create empty dictionary\n",
    "purse['money'] = 12 # \"money\" is the key and 12 is the value\n",
    "purse['candy'] = 3\n",
    "purse['tissues'] = 75\n",
    "print (purse)"
   ]
  },
  {
   "cell_type": "markdown",
   "metadata": {},
   "source": [
    "We can \"look up\" any **value** by supplying the name of the **key**. "
   ]
  },
  {
   "cell_type": "code",
   "execution_count": 3,
   "metadata": {},
   "outputs": [
    {
     "name": "stdout",
     "output_type": "stream",
     "text": [
      "3\n"
     ]
    }
   ],
   "source": [
    "print(purse['candy'])"
   ]
  },
  {
   "cell_type": "markdown",
   "metadata": {},
   "source": [
    "Since dictionaries are **mutable**, we can change the value of an element."
   ]
  },
  {
   "cell_type": "code",
   "execution_count": 4,
   "metadata": {},
   "outputs": [
    {
     "name": "stdout",
     "output_type": "stream",
     "text": [
      "{'money': 12, 'candy': 5, 'tissues': 75}\n"
     ]
    }
   ],
   "source": [
    "purse['candy'] = purse['candy'] + 2 # change a value \n",
    "print (purse)"
   ]
  },
  {
   "cell_type": "markdown",
   "metadata": {},
   "source": [
    "Dictionaries can also be created using {curly braces}, where each **key-value** pair is separated by a comma. Here is an example:"
   ]
  },
  {
   "cell_type": "code",
   "execution_count": 7,
   "metadata": {},
   "outputs": [
    {
     "name": "stdout",
     "output_type": "stream",
     "text": [
      "{'Zion': 1, 'Tre': 42, 'Javin': 100}\n"
     ]
    }
   ],
   "source": [
    "jjj = {'Zion' : 1, 'Tre' : 42, 'Javin' : 100}\n",
    "print (jjj)"
   ]
  },
  {
   "cell_type": "code",
   "execution_count": 8,
   "metadata": {},
   "outputs": [
    {
     "name": "stdout",
     "output_type": "stream",
     "text": [
      "{}\n"
     ]
    }
   ],
   "source": [
    "# here is an empty dictionary\n",
    "ooo = {}\n",
    "print (ooo)"
   ]
  }
 ],
 "metadata": {
  "kernelspec": {
   "display_name": "Python 3",
   "language": "python",
   "name": "python3"
  },
  "language_info": {
   "codemirror_mode": {
    "name": "ipython",
    "version": 3
   },
   "file_extension": ".py",
   "mimetype": "text/x-python",
   "name": "python",
   "nbconvert_exporter": "python",
   "pygments_lexer": "ipython3",
   "version": "3.6.8"
  }
 },
 "nbformat": 4,
 "nbformat_minor": 2
}
